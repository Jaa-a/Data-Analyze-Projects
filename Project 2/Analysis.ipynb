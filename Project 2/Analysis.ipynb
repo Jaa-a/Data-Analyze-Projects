{
 "cells": [
  {
   "cell_type": "markdown",
   "id": "bfdd5a12-d57b-4393-ab3e-2f9ff7b65a4c",
   "metadata": {},
   "source": [
    "## OBJECTIVES"
   ]
  },
  {
   "cell_type": "markdown",
   "id": "58fc1a18-a287-4edc-8bd3-dafda73ff637",
   "metadata": {},
   "source": [
    "Upon initial inspection of the data, we can start thinking of some questions about it that we would want to answer.\n",
    "\n",
    "What is the overall sales trend?\n",
    "\n",
    "Which are the Top 10 products by sales?\n",
    "\n",
    "Which are the Most Selling Products?\n",
    "\n",
    "Which is the most preferred Ship Mode?\n",
    "\n",
    "Which are the Most Profitable Category and Sub-Category?"
   ]
  },
  {
   "cell_type": "code",
   "execution_count": 1,
   "id": "0d76e021-3f54-486e-916c-783d17d43a30",
   "metadata": {},
   "outputs": [],
   "source": [
    "import pandas as pd\n",
    "import matplotlib.pyplot as plt"
   ]
  },
  {
   "cell_type": "code",
   "execution_count": 2,
   "id": "142270b4-8de8-48fa-ac24-69bda789996a",
   "metadata": {},
   "outputs": [],
   "source": [
    "sales = pd.read_excel('superstore_sales.xlsx')"
   ]
  },
  {
   "cell_type": "code",
   "execution_count": 3,
   "id": "6666d9e5-82e5-4d30-a4d8-4b016cd4f170",
   "metadata": {},
   "outputs": [
    {
     "data": {
      "text/plain": [
       "(Index(['order_id', 'order_date', 'ship_date', 'ship_mode', 'customer_name',\n",
       "        'segment', 'state', 'country', 'market', 'region', 'product_id',\n",
       "        'category', 'sub_category', 'product_name', 'sales', 'quantity',\n",
       "        'discount', 'profit', 'shipping_cost', 'order_priority', 'year'],\n",
       "       dtype='object'),\n",
       " (51290, 21))"
      ]
     },
     "execution_count": 3,
     "metadata": {},
     "output_type": "execute_result"
    }
   ],
   "source": [
    "sales.columns, sales.shape"
   ]
  },
  {
   "cell_type": "code",
   "execution_count": 4,
   "id": "1ac32a48-78d3-4c36-8cb4-ea51ca9362d3",
   "metadata": {},
   "outputs": [
    {
     "data": {
      "text/html": [
       "<div>\n",
       "<style scoped>\n",
       "    .dataframe tbody tr th:only-of-type {\n",
       "        vertical-align: middle;\n",
       "    }\n",
       "\n",
       "    .dataframe tbody tr th {\n",
       "        vertical-align: top;\n",
       "    }\n",
       "\n",
       "    .dataframe thead th {\n",
       "        text-align: right;\n",
       "    }\n",
       "</style>\n",
       "<table border=\"1\" class=\"dataframe\">\n",
       "  <thead>\n",
       "    <tr style=\"text-align: right;\">\n",
       "      <th></th>\n",
       "      <th>order_id</th>\n",
       "      <th>order_date</th>\n",
       "      <th>ship_date</th>\n",
       "      <th>ship_mode</th>\n",
       "      <th>customer_name</th>\n",
       "      <th>segment</th>\n",
       "      <th>state</th>\n",
       "      <th>country</th>\n",
       "      <th>market</th>\n",
       "      <th>region</th>\n",
       "      <th>...</th>\n",
       "      <th>category</th>\n",
       "      <th>sub_category</th>\n",
       "      <th>product_name</th>\n",
       "      <th>sales</th>\n",
       "      <th>quantity</th>\n",
       "      <th>discount</th>\n",
       "      <th>profit</th>\n",
       "      <th>shipping_cost</th>\n",
       "      <th>order_priority</th>\n",
       "      <th>year</th>\n",
       "    </tr>\n",
       "  </thead>\n",
       "  <tbody>\n",
       "    <tr>\n",
       "      <th>0</th>\n",
       "      <td>AG-2011-2040</td>\n",
       "      <td>2011-01-01</td>\n",
       "      <td>2011-01-06</td>\n",
       "      <td>Standard Class</td>\n",
       "      <td>Toby Braunhardt</td>\n",
       "      <td>Consumer</td>\n",
       "      <td>Constantine</td>\n",
       "      <td>Algeria</td>\n",
       "      <td>Africa</td>\n",
       "      <td>Africa</td>\n",
       "      <td>...</td>\n",
       "      <td>Office Supplies</td>\n",
       "      <td>Storage</td>\n",
       "      <td>Tenex Lockers, Blue</td>\n",
       "      <td>408.300</td>\n",
       "      <td>2</td>\n",
       "      <td>0.0</td>\n",
       "      <td>106.140</td>\n",
       "      <td>35.46</td>\n",
       "      <td>Medium</td>\n",
       "      <td>2011</td>\n",
       "    </tr>\n",
       "    <tr>\n",
       "      <th>1</th>\n",
       "      <td>IN-2011-47883</td>\n",
       "      <td>2011-01-01</td>\n",
       "      <td>2011-01-08</td>\n",
       "      <td>Standard Class</td>\n",
       "      <td>Joseph Holt</td>\n",
       "      <td>Consumer</td>\n",
       "      <td>New South Wales</td>\n",
       "      <td>Australia</td>\n",
       "      <td>APAC</td>\n",
       "      <td>Oceania</td>\n",
       "      <td>...</td>\n",
       "      <td>Office Supplies</td>\n",
       "      <td>Supplies</td>\n",
       "      <td>Acme Trimmer, High Speed</td>\n",
       "      <td>120.366</td>\n",
       "      <td>3</td>\n",
       "      <td>0.1</td>\n",
       "      <td>36.036</td>\n",
       "      <td>9.72</td>\n",
       "      <td>Medium</td>\n",
       "      <td>2011</td>\n",
       "    </tr>\n",
       "    <tr>\n",
       "      <th>2</th>\n",
       "      <td>HU-2011-1220</td>\n",
       "      <td>2011-01-01</td>\n",
       "      <td>2011-01-05</td>\n",
       "      <td>Second Class</td>\n",
       "      <td>Annie Thurman</td>\n",
       "      <td>Consumer</td>\n",
       "      <td>Budapest</td>\n",
       "      <td>Hungary</td>\n",
       "      <td>EMEA</td>\n",
       "      <td>EMEA</td>\n",
       "      <td>...</td>\n",
       "      <td>Office Supplies</td>\n",
       "      <td>Storage</td>\n",
       "      <td>Tenex Box, Single Width</td>\n",
       "      <td>66.120</td>\n",
       "      <td>4</td>\n",
       "      <td>0.0</td>\n",
       "      <td>29.640</td>\n",
       "      <td>8.17</td>\n",
       "      <td>High</td>\n",
       "      <td>2011</td>\n",
       "    </tr>\n",
       "    <tr>\n",
       "      <th>3</th>\n",
       "      <td>IT-2011-3647632</td>\n",
       "      <td>2011-01-01</td>\n",
       "      <td>2011-01-05</td>\n",
       "      <td>Second Class</td>\n",
       "      <td>Eugene Moren</td>\n",
       "      <td>Home Office</td>\n",
       "      <td>Stockholm</td>\n",
       "      <td>Sweden</td>\n",
       "      <td>EU</td>\n",
       "      <td>North</td>\n",
       "      <td>...</td>\n",
       "      <td>Office Supplies</td>\n",
       "      <td>Paper</td>\n",
       "      <td>Enermax Note Cards, Premium</td>\n",
       "      <td>44.865</td>\n",
       "      <td>3</td>\n",
       "      <td>0.5</td>\n",
       "      <td>-26.055</td>\n",
       "      <td>4.82</td>\n",
       "      <td>High</td>\n",
       "      <td>2011</td>\n",
       "    </tr>\n",
       "    <tr>\n",
       "      <th>4</th>\n",
       "      <td>IN-2011-47883</td>\n",
       "      <td>2011-01-01</td>\n",
       "      <td>2011-01-08</td>\n",
       "      <td>Standard Class</td>\n",
       "      <td>Joseph Holt</td>\n",
       "      <td>Consumer</td>\n",
       "      <td>New South Wales</td>\n",
       "      <td>Australia</td>\n",
       "      <td>APAC</td>\n",
       "      <td>Oceania</td>\n",
       "      <td>...</td>\n",
       "      <td>Furniture</td>\n",
       "      <td>Furnishings</td>\n",
       "      <td>Eldon Light Bulb, Duo Pack</td>\n",
       "      <td>113.670</td>\n",
       "      <td>5</td>\n",
       "      <td>0.1</td>\n",
       "      <td>37.770</td>\n",
       "      <td>4.70</td>\n",
       "      <td>Medium</td>\n",
       "      <td>2011</td>\n",
       "    </tr>\n",
       "  </tbody>\n",
       "</table>\n",
       "<p>5 rows × 21 columns</p>\n",
       "</div>"
      ],
      "text/plain": [
       "          order_id order_date  ship_date       ship_mode    customer_name  \\\n",
       "0     AG-2011-2040 2011-01-01 2011-01-06  Standard Class  Toby Braunhardt   \n",
       "1    IN-2011-47883 2011-01-01 2011-01-08  Standard Class      Joseph Holt   \n",
       "2     HU-2011-1220 2011-01-01 2011-01-05    Second Class    Annie Thurman   \n",
       "3  IT-2011-3647632 2011-01-01 2011-01-05    Second Class     Eugene Moren   \n",
       "4    IN-2011-47883 2011-01-01 2011-01-08  Standard Class      Joseph Holt   \n",
       "\n",
       "       segment            state    country  market   region  ...  \\\n",
       "0     Consumer      Constantine    Algeria  Africa   Africa  ...   \n",
       "1     Consumer  New South Wales  Australia    APAC  Oceania  ...   \n",
       "2     Consumer         Budapest    Hungary    EMEA     EMEA  ...   \n",
       "3  Home Office        Stockholm     Sweden      EU    North  ...   \n",
       "4     Consumer  New South Wales  Australia    APAC  Oceania  ...   \n",
       "\n",
       "          category sub_category                 product_name    sales  \\\n",
       "0  Office Supplies      Storage          Tenex Lockers, Blue  408.300   \n",
       "1  Office Supplies     Supplies     Acme Trimmer, High Speed  120.366   \n",
       "2  Office Supplies      Storage      Tenex Box, Single Width   66.120   \n",
       "3  Office Supplies        Paper  Enermax Note Cards, Premium   44.865   \n",
       "4        Furniture  Furnishings   Eldon Light Bulb, Duo Pack  113.670   \n",
       "\n",
       "   quantity  discount   profit  shipping_cost  order_priority  year  \n",
       "0         2       0.0  106.140          35.46          Medium  2011  \n",
       "1         3       0.1   36.036           9.72          Medium  2011  \n",
       "2         4       0.0   29.640           8.17            High  2011  \n",
       "3         3       0.5  -26.055           4.82            High  2011  \n",
       "4         5       0.1   37.770           4.70          Medium  2011  \n",
       "\n",
       "[5 rows x 21 columns]"
      ]
     },
     "execution_count": 4,
     "metadata": {},
     "output_type": "execute_result"
    }
   ],
   "source": [
    "sales.head()"
   ]
  },
  {
   "cell_type": "markdown",
   "id": "eba5ed04-b29b-4c63-acf8-6ec2a3808bbc",
   "metadata": {},
   "source": [
    "### Question 1: What is the overall sales trend?\n",
    "    "
   ]
  },
  {
   "cell_type": "code",
   "execution_count": 5,
   "id": "accf779a-ea88-48a0-9147-28e9cb8394e6",
   "metadata": {},
   "outputs": [],
   "source": [
    "sales['month_year'] = sales['order_date'].apply(lambda x: x.strftime('%Y-%m'))"
   ]
  },
  {
   "cell_type": "code",
   "execution_count": 6,
   "id": "e1d630e2-aa74-4128-848e-b2406d3831da",
   "metadata": {},
   "outputs": [
    {
     "name": "stderr",
     "output_type": "stream",
     "text": [
      "C:\\Users\\GFB\\AppData\\Local\\Temp\\ipykernel_10048\\2833970278.py:1: FutureWarning: The default value of numeric_only in DataFrameGroupBy.sum is deprecated. In a future version, numeric_only will default to False. Either specify numeric_only or select only columns which should be valid for the function.\n",
      "  month_sales = sales.groupby('month_year').sum()['sales'].reset_index()\n"
     ]
    }
   ],
   "source": [
    "month_sales = sales.groupby('month_year').sum()['sales'].reset_index()"
   ]
  },
  {
   "cell_type": "code",
   "execution_count": 7,
   "id": "1ac94e88-1c7b-4d7b-bd4f-d8ec27b1e532",
   "metadata": {},
   "outputs": [
    {
     "data": {
      "image/png": "[encoded data removed]",
      "text/plain": [
       "<Figure size 1600x500 with 1 Axes>"
      ]
     },
     "metadata": {},
     "output_type": "display_data"
    }
   ],
   "source": [
    "plt.figure(figsize=(16, 5))\n",
    "plt.plot(month_sales['month_year'], month_sales['sales'])\n",
    "plt.xticks(rotation='vertical', size=8)\n",
    "plt.show()"
   ]
  },
  {
   "cell_type": "markdown",
   "id": "7a453711-0ccf-406a-921b-d4826d1c5a08",
   "metadata": {},
   "source": [
    "### Question 2: Which are the Top 10 products by sales?"
   ]
  },
  {
   "cell_type": "code",
   "execution_count": 8,
   "id": "fe463ccd-8b18-40d6-97da-a9b5e2be023f",
   "metadata": {},
   "outputs": [],
   "source": [
    "group_products = sales.groupby('product_name')['sales'].sum()"
   ]
  },
  {
   "cell_type": "code",
   "execution_count": 9,
   "id": "02631e60-87a5-47da-b8d7-0243a1246fbf",
   "metadata": {},
   "outputs": [],
   "source": [
    "top_10_products_by_sales = group_products.sort_values(ascending=False).head(10)"
   ]
  },
  {
   "cell_type": "code",
   "execution_count": 10,
   "id": "3f6f5ea0-dc8a-498c-89c6-ca2c400ef6e4",
   "metadata": {},
   "outputs": [
    {
     "data": {
      "text/plain": [
       "product_name\n",
       "Apple Smart Phone, Full Size                                86935.7786\n",
       "Cisco Smart Phone, Full Size                                76441.5306\n",
       "Motorola Smart Phone, Full Size                             73156.3030\n",
       "Nokia Smart Phone, Full Size                                71904.5555\n",
       "Canon imageCLASS 2200 Advanced Copier                       61599.8240\n",
       "Hon Executive Leather Armchair, Adjustable                  58193.4841\n",
       "Office Star Executive Leather Armchair, Adjustable          50661.6840\n",
       "Harbour Creations Executive Leather Armchair, Adjustable    50121.5160\n",
       "Samsung Smart Phone, Cordless                               48653.4600\n",
       "Nokia Smart Phone, with Caller ID                           47877.7857\n",
       "Name: sales, dtype: float64"
      ]
     },
     "execution_count": 10,
     "metadata": {},
     "output_type": "execute_result"
    }
   ],
   "source": [
    "top_10_products_by_sales"
   ]
  },
  {
   "cell_type": "markdown",
   "id": "37136198-58b3-4e57-82a5-e834fe85f8d2",
   "metadata": {},
   "source": [
    "### Question 3: Which are the Most Selling Products?"
   ]
  },
  {
   "cell_type": "code",
   "execution_count": 11,
   "id": "ef85c55f-871f-476f-99e3-783c684967b2",
   "metadata": {},
   "outputs": [],
   "source": [
    "most_selling_products = sales.groupby('product_name')['quantity'].sum().sort_values(ascending=False)"
   ]
  },
  {
   "cell_type": "code",
   "execution_count": 12,
   "id": "4e87bc92-9eba-4310-9a78-c4c5255cf477",
   "metadata": {},
   "outputs": [
    {
     "data": {
      "text/plain": [
       "'The most selling product is 876 units of Staples'"
      ]
     },
     "execution_count": 12,
     "metadata": {},
     "output_type": "execute_result"
    }
   ],
   "source": [
    "'The most selling product is {1} units of {0}'.format(most_selling_products.reset_index()['product_name'][0], most_selling_products.reset_index()['quantity'][0])"
   ]
  },
  {
   "cell_type": "code",
   "execution_count": 13,
   "id": "e840f26c-f86c-4677-9259-471c7e0f1696",
   "metadata": {},
   "outputs": [
    {
     "data": {
      "text/plain": [
       "product_name\n",
       "Staples                                                                      876\n",
       "Cardinal Index Tab, Clear                                                    337\n",
       "Eldon File Cart, Single Width                                                321\n",
       "Rogers File Cart, Single Width                                               262\n",
       "Sanford Pencil Sharpener, Water Color                                        259\n",
       "                                                                            ... \n",
       "Penpower WorldCard Pro Card Scanner                                            1\n",
       "Bush Saratoga Collection 5-Shelf Bookcase, Hanover Cherry, *Special Order      1\n",
       "Boston 1900 Electric Pencil Sharpener                                          1\n",
       "Xerox 20                                                                       1\n",
       "Global Enterprise Series Seating Low-Back Swivel/Tilt Chairs                   1\n",
       "Name: quantity, Length: 3788, dtype: int64"
      ]
     },
     "execution_count": 13,
     "metadata": {},
     "output_type": "execute_result"
    }
   ],
   "source": [
    "most_selling_products"
   ]
  },
  {
   "cell_type": "markdown",
   "id": "5065814d-9c24-4bb1-b61d-3abe6841d660",
   "metadata": {},
   "source": [
    "### Question 4: Which is the most preferred Ship Mode?"
   ]
  },
  {
   "cell_type": "code",
   "execution_count": 14,
   "id": "2ebac56e-0aa4-445d-9f6e-6a5aa51189d2",
   "metadata": {},
   "outputs": [
    {
     "data": {
      "text/html": [
       "<div>\n",
       "<style scoped>\n",
       "    .dataframe tbody tr th:only-of-type {\n",
       "        vertical-align: middle;\n",
       "    }\n",
       "\n",
       "    .dataframe tbody tr th {\n",
       "        vertical-align: top;\n",
       "    }\n",
       "\n",
       "    .dataframe thead th {\n",
       "        text-align: right;\n",
       "    }\n",
       "</style>\n",
       "<table border=\"1\" class=\"dataframe\">\n",
       "  <thead>\n",
       "    <tr style=\"text-align: right;\">\n",
       "      <th></th>\n",
       "      <th>Ship Mode</th>\n",
       "      <th>Counts</th>\n",
       "    </tr>\n",
       "  </thead>\n",
       "  <tbody>\n",
       "    <tr>\n",
       "      <th>0</th>\n",
       "      <td>Standard Class</td>\n",
       "      <td>30775</td>\n",
       "    </tr>\n",
       "    <tr>\n",
       "      <th>1</th>\n",
       "      <td>Second Class</td>\n",
       "      <td>10309</td>\n",
       "    </tr>\n",
       "    <tr>\n",
       "      <th>2</th>\n",
       "      <td>First Class</td>\n",
       "      <td>7505</td>\n",
       "    </tr>\n",
       "    <tr>\n",
       "      <th>3</th>\n",
       "      <td>Same Day</td>\n",
       "      <td>2701</td>\n",
       "    </tr>\n",
       "  </tbody>\n",
       "</table>\n",
       "</div>"
      ],
      "text/plain": [
       "        Ship Mode  Counts\n",
       "0  Standard Class   30775\n",
       "1    Second Class   10309\n",
       "2     First Class    7505\n",
       "3        Same Day    2701"
      ]
     },
     "execution_count": 14,
     "metadata": {},
     "output_type": "execute_result"
    }
   ],
   "source": [
    "ship_modes_counts = sales['ship_mode'].value_counts().reset_index()\n",
    "ship_modes_counts.columns= ['Ship Mode', 'Counts']\n",
    "ship_modes_counts"
   ]
  },
  {
   "cell_type": "code",
   "execution_count": 15,
   "id": "adf59f83-877e-4ef3-98be-effaf44d125e",
   "metadata": {},
   "outputs": [
    {
     "data": {
      "text/plain": [
       "'The most preferred ship mode is Standard Class and it accounts for 60.0% of the total sales made.'"
      ]
     },
     "execution_count": 15,
     "metadata": {},
     "output_type": "execute_result"
    }
   ],
   "source": [
    "\"The most preferred ship mode is {0} and it accounts for {1}% of the total sales made.\".format(ship_modes_counts['Ship Mode'][0],((ship_modes_counts['Counts'][0]/ship_modes_counts['Counts'].sum())*100).round())"
   ]
  },
  {
   "cell_type": "markdown",
   "id": "721862fb-4d8c-4fbf-ad0f-334a6bff50e7",
   "metadata": {},
   "source": [
    "### Question 5: Which are the Most Profitable Category and Sub-Category?"
   ]
  },
  {
   "cell_type": "code",
   "execution_count": 16,
   "id": "2923998d-4274-43f3-8f35-013062a57479",
   "metadata": {},
   "outputs": [
    {
     "name": "stderr",
     "output_type": "stream",
     "text": [
      "C:\\Users\\GFB\\AppData\\Local\\Temp\\ipykernel_10048\\684985046.py:1: FutureWarning: The default value of numeric_only in DataFrameGroupBy.sum is deprecated. In a future version, numeric_only will default to False. Either specify numeric_only or select only columns which should be valid for the function.\n",
      "  categ_subcateg = pd.DataFrame(sales.groupby(['category', 'sub_category']).sum()['profit'])\n"
     ]
    }
   ],
   "source": [
    "categ_subcateg = pd.DataFrame(sales.groupby(['category', 'sub_category']).sum()['profit'])"
   ]
  },
  {
   "cell_type": "code",
   "execution_count": 17,
   "id": "87e748d0-c107-43eb-ae6e-7d33563547f8",
   "metadata": {},
   "outputs": [
    {
     "data": {
      "text/html": [
       "<div>\n",
       "<style scoped>\n",
       "    .dataframe tbody tr th:only-of-type {\n",
       "        vertical-align: middle;\n",
       "    }\n",
       "\n",
       "    .dataframe tbody tr th {\n",
       "        vertical-align: top;\n",
       "    }\n",
       "\n",
       "    .dataframe thead th {\n",
       "        text-align: right;\n",
       "    }\n",
       "</style>\n",
       "<table border=\"1\" class=\"dataframe\">\n",
       "  <thead>\n",
       "    <tr style=\"text-align: right;\">\n",
       "      <th></th>\n",
       "      <th></th>\n",
       "      <th>profit</th>\n",
       "    </tr>\n",
       "    <tr>\n",
       "      <th>category</th>\n",
       "      <th>sub_category</th>\n",
       "      <th></th>\n",
       "    </tr>\n",
       "  </thead>\n",
       "  <tbody>\n",
       "    <tr>\n",
       "      <th rowspan=\"4\" valign=\"top\">Technology</th>\n",
       "      <th>Copiers</th>\n",
       "      <td>258567.54818</td>\n",
       "    </tr>\n",
       "    <tr>\n",
       "      <th>Phones</th>\n",
       "      <td>216717.00580</td>\n",
       "    </tr>\n",
       "    <tr>\n",
       "      <th>Accessories</th>\n",
       "      <td>129626.30620</td>\n",
       "    </tr>\n",
       "    <tr>\n",
       "      <th>Machines</th>\n",
       "      <td>58867.87300</td>\n",
       "    </tr>\n",
       "    <tr>\n",
       "      <th rowspan=\"9\" valign=\"top\">Office Supplies</th>\n",
       "      <th>Appliances</th>\n",
       "      <td>141680.58940</td>\n",
       "    </tr>\n",
       "    <tr>\n",
       "      <th>Storage</th>\n",
       "      <td>108461.48980</td>\n",
       "    </tr>\n",
       "    <tr>\n",
       "      <th>Binders</th>\n",
       "      <td>72449.84600</td>\n",
       "    </tr>\n",
       "    <tr>\n",
       "      <th>Paper</th>\n",
       "      <td>59207.68270</td>\n",
       "    </tr>\n",
       "    <tr>\n",
       "      <th>Art</th>\n",
       "      <td>57953.91090</td>\n",
       "    </tr>\n",
       "    <tr>\n",
       "      <th>Envelopes</th>\n",
       "      <td>29601.11630</td>\n",
       "    </tr>\n",
       "    <tr>\n",
       "      <th>Supplies</th>\n",
       "      <td>22583.26310</td>\n",
       "    </tr>\n",
       "    <tr>\n",
       "      <th>Labels</th>\n",
       "      <td>15010.51200</td>\n",
       "    </tr>\n",
       "    <tr>\n",
       "      <th>Fasteners</th>\n",
       "      <td>11525.42410</td>\n",
       "    </tr>\n",
       "    <tr>\n",
       "      <th rowspan=\"4\" valign=\"top\">Furniture</th>\n",
       "      <th>Bookcases</th>\n",
       "      <td>161924.41950</td>\n",
       "    </tr>\n",
       "    <tr>\n",
       "      <th>Chairs</th>\n",
       "      <td>141973.79750</td>\n",
       "    </tr>\n",
       "    <tr>\n",
       "      <th>Furnishings</th>\n",
       "      <td>46967.42550</td>\n",
       "    </tr>\n",
       "    <tr>\n",
       "      <th>Tables</th>\n",
       "      <td>-64083.38870</td>\n",
       "    </tr>\n",
       "  </tbody>\n",
       "</table>\n",
       "</div>"
      ],
      "text/plain": [
       "                                    profit\n",
       "category        sub_category              \n",
       "Technology      Copiers       258567.54818\n",
       "                Phones        216717.00580\n",
       "                Accessories   129626.30620\n",
       "                Machines       58867.87300\n",
       "Office Supplies Appliances    141680.58940\n",
       "                Storage       108461.48980\n",
       "                Binders        72449.84600\n",
       "                Paper          59207.68270\n",
       "                Art            57953.91090\n",
       "                Envelopes      29601.11630\n",
       "                Supplies       22583.26310\n",
       "                Labels         15010.51200\n",
       "                Fasteners      11525.42410\n",
       "Furniture       Bookcases     161924.41950\n",
       "                Chairs        141973.79750\n",
       "                Furnishings    46967.42550\n",
       "                Tables        -64083.38870"
      ]
     },
     "execution_count": 17,
     "metadata": {},
     "output_type": "execute_result"
    }
   ],
   "source": [
    "categ_subcateg.sort_values(['category','profit'], ascending=False)"
   ]
  }
 ],
 "metadata": {
  "kernelspec": {
   "display_name": "Python 3 (ipykernel)",
   "language": "python",
   "name": "python3"
  },
  "language_info": {
   "codemirror_mode": {
    "name": "ipython",
    "version": 3
   },
   "file_extension": ".py",
   "mimetype": "text/x-python",
   "name": "python",
   "nbconvert_exporter": "python",
   "pygments_lexer": "ipython3",
   "version": "3.10.9"
  }
 },
 "nbformat": 4,
 "nbformat_minor": 5
}
