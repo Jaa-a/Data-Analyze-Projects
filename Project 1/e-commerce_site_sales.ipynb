{
 "cells": [
  {
   "cell_type": "markdown",
   "id": "dea8cb83-95c7-494f-9163-a6d444cdadfb",
   "metadata": {
    "tags": []
   },
   "source": [
    "### Import Necessary Libraries"
   ]
  },
  {
   "cell_type": "code",
   "execution_count": 1,
   "id": "97ba6539-4851-4f6b-93b1-e656be83a261",
   "metadata": {},
   "outputs": [],
   "source": [
    "import pandas as pd\n",
    "import os\n",
    "from datetime import datetime"
   ]
  },
  {
   "cell_type": "markdown",
   "id": "4fbae910-789f-4f05-ac53-4776a2ce3875",
   "metadata": {
    "tags": []
   },
   "source": [
    "### Task #1: Merge the 12 months of sales data into a single CSV file."
   ]
  },
  {
   "cell_type": "code",
   "execution_count": 2,
   "id": "33bf90c7-2e74-467f-b20b-3c9704a140cb",
   "metadata": {},
   "outputs": [],
   "source": [
    "files = [file for file in os.listdir('./Sales_Data')]"
   ]
  },
  {
   "cell_type": "code",
   "execution_count": 3,
   "id": "5a3deb90-41e0-49b9-b7c6-05f209393066",
   "metadata": {},
   "outputs": [],
   "source": [
    "all_data = pd.DataFrame()"
   ]
  },
  {
   "cell_type": "code",
   "execution_count": 4,
   "id": "7409b784-8697-444c-bb20-f2d81f9271aa",
   "metadata": {},
   "outputs": [],
   "source": [
    "for file in files:\n",
    "    df = pd.read_csv('./Sales_Data/'+file)\n",
    "    all_data = pd.concat([all_data,df])"
   ]
  },
  {
   "cell_type": "code",
   "execution_count": 5,
   "id": "e7938673-afc7-4659-9045-a5df11e084e5",
   "metadata": {},
   "outputs": [
    {
     "data": {
      "text/html": [
       "<div>\n",
       "<style scoped>\n",
       "    .dataframe tbody tr th:only-of-type {\n",
       "        vertical-align: middle;\n",
       "    }\n",
       "\n",
       "    .dataframe tbody tr th {\n",
       "        vertical-align: top;\n",
       "    }\n",
       "\n",
       "    .dataframe thead th {\n",
       "        text-align: right;\n",
       "    }\n",
       "</style>\n",
       "<table border=\"1\" class=\"dataframe\">\n",
       "  <thead>\n",
       "    <tr style=\"text-align: right;\">\n",
       "      <th></th>\n",
       "      <th>Order ID</th>\n",
       "      <th>Product</th>\n",
       "      <th>Quantity Ordered</th>\n",
       "      <th>Price Each</th>\n",
       "      <th>Order Date</th>\n",
       "      <th>Purchase Address</th>\n",
       "    </tr>\n",
       "  </thead>\n",
       "  <tbody>\n",
       "    <tr>\n",
       "      <th>0</th>\n",
       "      <td>176558</td>\n",
       "      <td>USB-C Charging Cable</td>\n",
       "      <td>2</td>\n",
       "      <td>11.95</td>\n",
       "      <td>04/19/19 08:46</td>\n",
       "      <td>917 1st St, Dallas, TX 75001</td>\n",
       "    </tr>\n",
       "    <tr>\n",
       "      <th>1</th>\n",
       "      <td>NaN</td>\n",
       "      <td>NaN</td>\n",
       "      <td>NaN</td>\n",
       "      <td>NaN</td>\n",
       "      <td>NaN</td>\n",
       "      <td>NaN</td>\n",
       "    </tr>\n",
       "    <tr>\n",
       "      <th>2</th>\n",
       "      <td>176559</td>\n",
       "      <td>Bose SoundSport Headphones</td>\n",
       "      <td>1</td>\n",
       "      <td>99.99</td>\n",
       "      <td>04/07/19 22:30</td>\n",
       "      <td>682 Chestnut St, Boston, MA 02215</td>\n",
       "    </tr>\n",
       "    <tr>\n",
       "      <th>3</th>\n",
       "      <td>176560</td>\n",
       "      <td>Google Phone</td>\n",
       "      <td>1</td>\n",
       "      <td>600</td>\n",
       "      <td>04/12/19 14:38</td>\n",
       "      <td>669 Spruce St, Los Angeles, CA 90001</td>\n",
       "    </tr>\n",
       "    <tr>\n",
       "      <th>4</th>\n",
       "      <td>176560</td>\n",
       "      <td>Wired Headphones</td>\n",
       "      <td>1</td>\n",
       "      <td>11.99</td>\n",
       "      <td>04/12/19 14:38</td>\n",
       "      <td>669 Spruce St, Los Angeles, CA 90001</td>\n",
       "    </tr>\n",
       "    <tr>\n",
       "      <th>...</th>\n",
       "      <td>...</td>\n",
       "      <td>...</td>\n",
       "      <td>...</td>\n",
       "      <td>...</td>\n",
       "      <td>...</td>\n",
       "      <td>...</td>\n",
       "    </tr>\n",
       "    <tr>\n",
       "      <th>11681</th>\n",
       "      <td>259353</td>\n",
       "      <td>AAA Batteries (4-pack)</td>\n",
       "      <td>3</td>\n",
       "      <td>2.99</td>\n",
       "      <td>09/17/19 20:56</td>\n",
       "      <td>840 Highland St, Los Angeles, CA 90001</td>\n",
       "    </tr>\n",
       "    <tr>\n",
       "      <th>11682</th>\n",
       "      <td>259354</td>\n",
       "      <td>iPhone</td>\n",
       "      <td>1</td>\n",
       "      <td>700</td>\n",
       "      <td>09/01/19 16:00</td>\n",
       "      <td>216 Dogwood St, San Francisco, CA 94016</td>\n",
       "    </tr>\n",
       "    <tr>\n",
       "      <th>11683</th>\n",
       "      <td>259355</td>\n",
       "      <td>iPhone</td>\n",
       "      <td>1</td>\n",
       "      <td>700</td>\n",
       "      <td>09/23/19 07:39</td>\n",
       "      <td>220 12th St, San Francisco, CA 94016</td>\n",
       "    </tr>\n",
       "    <tr>\n",
       "      <th>11684</th>\n",
       "      <td>259356</td>\n",
       "      <td>34in Ultrawide Monitor</td>\n",
       "      <td>1</td>\n",
       "      <td>379.99</td>\n",
       "      <td>09/19/19 17:30</td>\n",
       "      <td>511 Forest St, San Francisco, CA 94016</td>\n",
       "    </tr>\n",
       "    <tr>\n",
       "      <th>11685</th>\n",
       "      <td>259357</td>\n",
       "      <td>USB-C Charging Cable</td>\n",
       "      <td>1</td>\n",
       "      <td>11.95</td>\n",
       "      <td>09/30/19 00:18</td>\n",
       "      <td>250 Meadow St, San Francisco, CA 94016</td>\n",
       "    </tr>\n",
       "  </tbody>\n",
       "</table>\n",
       "<p>186850 rows × 6 columns</p>\n",
       "</div>"
      ],
      "text/plain": [
       "      Order ID                     Product Quantity Ordered Price Each  \\\n",
       "0       176558        USB-C Charging Cable                2      11.95   \n",
       "1          NaN                         NaN              NaN        NaN   \n",
       "2       176559  Bose SoundSport Headphones                1      99.99   \n",
       "3       176560                Google Phone                1        600   \n",
       "4       176560            Wired Headphones                1      11.99   \n",
       "...        ...                         ...              ...        ...   \n",
       "11681   259353      AAA Batteries (4-pack)                3       2.99   \n",
       "11682   259354                      iPhone                1        700   \n",
       "11683   259355                      iPhone                1        700   \n",
       "11684   259356      34in Ultrawide Monitor                1     379.99   \n",
       "11685   259357        USB-C Charging Cable                1      11.95   \n",
       "\n",
       "           Order Date                         Purchase Address  \n",
       "0      04/19/19 08:46             917 1st St, Dallas, TX 75001  \n",
       "1                 NaN                                      NaN  \n",
       "2      04/07/19 22:30        682 Chestnut St, Boston, MA 02215  \n",
       "3      04/12/19 14:38     669 Spruce St, Los Angeles, CA 90001  \n",
       "4      04/12/19 14:38     669 Spruce St, Los Angeles, CA 90001  \n",
       "...               ...                                      ...  \n",
       "11681  09/17/19 20:56   840 Highland St, Los Angeles, CA 90001  \n",
       "11682  09/01/19 16:00  216 Dogwood St, San Francisco, CA 94016  \n",
       "11683  09/23/19 07:39     220 12th St, San Francisco, CA 94016  \n",
       "11684  09/19/19 17:30   511 Forest St, San Francisco, CA 94016  \n",
       "11685  09/30/19 00:18   250 Meadow St, San Francisco, CA 94016  \n",
       "\n",
       "[186850 rows x 6 columns]"
      ]
     },
     "execution_count": 5,
     "metadata": {},
     "output_type": "execute_result"
    }
   ],
   "source": [
    "all_data"
   ]
  },
  {
   "cell_type": "code",
   "execution_count": 6,
   "id": "0c90cfa4-852d-4bac-a62a-295e8d86e968",
   "metadata": {},
   "outputs": [],
   "source": [
    "all_data.to_csv('all_data.csv', index=False)"
   ]
  },
  {
   "cell_type": "markdown",
   "id": "78257269-2ff9-466e-89b7-de3185fe174f",
   "metadata": {
    "tags": []
   },
   "source": [
    "### Read data again - Update"
   ]
  },
  {
   "cell_type": "code",
   "execution_count": 7,
   "id": "5a6e64af-2c3a-4354-86d4-775d77818270",
   "metadata": {},
   "outputs": [],
   "source": [
    "all_data = pd.read_csv('all_data.csv')"
   ]
  },
  {
   "cell_type": "markdown",
   "id": "fffe25ec-6053-45bd-b1e2-31d484b74543",
   "metadata": {
    "tags": []
   },
   "source": [
    "### Clean Up the Data - Drop rows of NaN"
   ]
  },
  {
   "cell_type": "code",
   "execution_count": 8,
   "id": "b59bf155-a580-489a-b6bb-78f9f09d7d43",
   "metadata": {},
   "outputs": [],
   "source": [
    "nan_df = all_data[all_data.isna().any(axis = 1)]\n",
    "nan_df\n",
    "all_data = all_data.dropna(how = 'all')"
   ]
  },
  {
   "cell_type": "code",
   "execution_count": 9,
   "id": "59b1405f-07ed-44ab-b2a7-db20b95453cf",
   "metadata": {},
   "outputs": [
    {
     "data": {
      "text/html": [
       "<div>\n",
       "<style scoped>\n",
       "    .dataframe tbody tr th:only-of-type {\n",
       "        vertical-align: middle;\n",
       "    }\n",
       "\n",
       "    .dataframe tbody tr th {\n",
       "        vertical-align: top;\n",
       "    }\n",
       "\n",
       "    .dataframe thead th {\n",
       "        text-align: right;\n",
       "    }\n",
       "</style>\n",
       "<table border=\"1\" class=\"dataframe\">\n",
       "  <thead>\n",
       "    <tr style=\"text-align: right;\">\n",
       "      <th></th>\n",
       "      <th>Order ID</th>\n",
       "      <th>Product</th>\n",
       "      <th>Quantity Ordered</th>\n",
       "      <th>Price Each</th>\n",
       "      <th>Order Date</th>\n",
       "      <th>Purchase Address</th>\n",
       "    </tr>\n",
       "  </thead>\n",
       "  <tbody>\n",
       "    <tr>\n",
       "      <th>519</th>\n",
       "      <td>Order ID</td>\n",
       "      <td>Product</td>\n",
       "      <td>Quantity Ordered</td>\n",
       "      <td>Price Each</td>\n",
       "      <td>Order Date</td>\n",
       "      <td>Purchase Address</td>\n",
       "    </tr>\n",
       "    <tr>\n",
       "      <th>1149</th>\n",
       "      <td>Order ID</td>\n",
       "      <td>Product</td>\n",
       "      <td>Quantity Ordered</td>\n",
       "      <td>Price Each</td>\n",
       "      <td>Order Date</td>\n",
       "      <td>Purchase Address</td>\n",
       "    </tr>\n",
       "    <tr>\n",
       "      <th>1155</th>\n",
       "      <td>Order ID</td>\n",
       "      <td>Product</td>\n",
       "      <td>Quantity Ordered</td>\n",
       "      <td>Price Each</td>\n",
       "      <td>Order Date</td>\n",
       "      <td>Purchase Address</td>\n",
       "    </tr>\n",
       "    <tr>\n",
       "      <th>2878</th>\n",
       "      <td>Order ID</td>\n",
       "      <td>Product</td>\n",
       "      <td>Quantity Ordered</td>\n",
       "      <td>Price Each</td>\n",
       "      <td>Order Date</td>\n",
       "      <td>Purchase Address</td>\n",
       "    </tr>\n",
       "    <tr>\n",
       "      <th>2893</th>\n",
       "      <td>Order ID</td>\n",
       "      <td>Product</td>\n",
       "      <td>Quantity Ordered</td>\n",
       "      <td>Price Each</td>\n",
       "      <td>Order Date</td>\n",
       "      <td>Purchase Address</td>\n",
       "    </tr>\n",
       "  </tbody>\n",
       "</table>\n",
       "</div>"
      ],
      "text/plain": [
       "      Order ID  Product  Quantity Ordered  Price Each  Order Date  \\\n",
       "519   Order ID  Product  Quantity Ordered  Price Each  Order Date   \n",
       "1149  Order ID  Product  Quantity Ordered  Price Each  Order Date   \n",
       "1155  Order ID  Product  Quantity Ordered  Price Each  Order Date   \n",
       "2878  Order ID  Product  Quantity Ordered  Price Each  Order Date   \n",
       "2893  Order ID  Product  Quantity Ordered  Price Each  Order Date   \n",
       "\n",
       "      Purchase Address  \n",
       "519   Purchase Address  \n",
       "1149  Purchase Address  \n",
       "1155  Purchase Address  \n",
       "2878  Purchase Address  \n",
       "2893  Purchase Address  "
      ]
     },
     "execution_count": 9,
     "metadata": {},
     "output_type": "execute_result"
    }
   ],
   "source": [
    "all_data.loc[all_data['Order ID'] == 'Order ID'].head()"
   ]
  },
  {
   "cell_type": "code",
   "execution_count": 10,
   "id": "0102cf89-a117-4392-b469-d65706f2796f",
   "metadata": {},
   "outputs": [
    {
     "data": {
      "text/html": [
       "<div>\n",
       "<style scoped>\n",
       "    .dataframe tbody tr th:only-of-type {\n",
       "        vertical-align: middle;\n",
       "    }\n",
       "\n",
       "    .dataframe tbody tr th {\n",
       "        vertical-align: top;\n",
       "    }\n",
       "\n",
       "    .dataframe thead th {\n",
       "        text-align: right;\n",
       "    }\n",
       "</style>\n",
       "<table border=\"1\" class=\"dataframe\">\n",
       "  <thead>\n",
       "    <tr style=\"text-align: right;\">\n",
       "      <th></th>\n",
       "      <th>Order ID</th>\n",
       "      <th>Product</th>\n",
       "      <th>Quantity Ordered</th>\n",
       "      <th>Price Each</th>\n",
       "      <th>Order Date</th>\n",
       "      <th>Purchase Address</th>\n",
       "    </tr>\n",
       "  </thead>\n",
       "  <tbody>\n",
       "  </tbody>\n",
       "</table>\n",
       "</div>"
      ],
      "text/plain": [
       "Empty DataFrame\n",
       "Columns: [Order ID, Product, Quantity Ordered, Price Each, Order Date, Purchase Address]\n",
       "Index: []"
      ]
     },
     "execution_count": 10,
     "metadata": {},
     "output_type": "execute_result"
    }
   ],
   "source": [
    "all_data = all_data.loc[all_data['Order ID'] != 'Order ID'] # We removed the headers as we merged multiple data sets.\n",
    "all_data.loc[all_data['Order ID'] == 'Order ID'] # There aren't anymore."
   ]
  },
  {
   "cell_type": "markdown",
   "id": "26942e76-4e43-4465-8a0c-e9456823ca44",
   "metadata": {
    "tags": []
   },
   "source": [
    "### Parse order date"
   ]
  },
  {
   "cell_type": "code",
   "execution_count": 11,
   "id": "613138a5-c705-4d6f-a1b7-05bf65e00114",
   "metadata": {},
   "outputs": [],
   "source": [
    "def year_updater(date):\n",
    "    date = str(date)\n",
    "    return datetime.strptime(date, '%m/%d/%y %H:%M')"
   ]
  },
  {
   "cell_type": "code",
   "execution_count": 12,
   "id": "a392e1dc-3657-48d0-835b-d2814a81a001",
   "metadata": {},
   "outputs": [],
   "source": [
    "all_data['Order Date'] = all_data['Order Date'].apply(year_updater)"
   ]
  },
  {
   "cell_type": "code",
   "execution_count": 13,
   "id": "a0e9c1d6-6b0e-4314-ab73-77af993e1953",
   "metadata": {},
   "outputs": [
    {
     "name": "stdout",
     "output_type": "stream",
     "text": [
      "<class 'pandas.core.frame.DataFrame'>\n",
      "Int64Index: 185950 entries, 0 to 186849\n",
      "Data columns (total 6 columns):\n",
      " #   Column            Non-Null Count   Dtype         \n",
      "---  ------            --------------   -----         \n",
      " 0   Order ID          185950 non-null  object        \n",
      " 1   Product           185950 non-null  object        \n",
      " 2   Quantity Ordered  185950 non-null  object        \n",
      " 3   Price Each        185950 non-null  object        \n",
      " 4   Order Date        185950 non-null  datetime64[ns]\n",
      " 5   Purchase Address  185950 non-null  object        \n",
      "dtypes: datetime64[ns](1), object(5)\n",
      "memory usage: 9.9+ MB\n"
     ]
    }
   ],
   "source": [
    "all_data.info()"
   ]
  },
  {
   "cell_type": "code",
   "execution_count": 14,
   "id": "1b6220f7-3766-4472-8390-1f3061bfa7a7",
   "metadata": {},
   "outputs": [
    {
     "data": {
      "text/html": [
       "<div>\n",
       "<style scoped>\n",
       "    .dataframe tbody tr th:only-of-type {\n",
       "        vertical-align: middle;\n",
       "    }\n",
       "\n",
       "    .dataframe tbody tr th {\n",
       "        vertical-align: top;\n",
       "    }\n",
       "\n",
       "    .dataframe thead th {\n",
       "        text-align: right;\n",
       "    }\n",
       "</style>\n",
       "<table border=\"1\" class=\"dataframe\">\n",
       "  <thead>\n",
       "    <tr style=\"text-align: right;\">\n",
       "      <th></th>\n",
       "      <th>Order ID</th>\n",
       "      <th>Product</th>\n",
       "      <th>Quantity Ordered</th>\n",
       "      <th>Price Each</th>\n",
       "      <th>Order Date</th>\n",
       "      <th>Purchase Address</th>\n",
       "      <th>year</th>\n",
       "      <th>month</th>\n",
       "      <th>day</th>\n",
       "      <th>hour</th>\n",
       "      <th>minute</th>\n",
       "    </tr>\n",
       "  </thead>\n",
       "  <tbody>\n",
       "    <tr>\n",
       "      <th>0</th>\n",
       "      <td>176558</td>\n",
       "      <td>USB-C Charging Cable</td>\n",
       "      <td>2</td>\n",
       "      <td>11.95</td>\n",
       "      <td>2019-04-19 08:46:00</td>\n",
       "      <td>917 1st St, Dallas, TX 75001</td>\n",
       "      <td>2019</td>\n",
       "      <td>4</td>\n",
       "      <td>19</td>\n",
       "      <td>8</td>\n",
       "      <td>46</td>\n",
       "    </tr>\n",
       "    <tr>\n",
       "      <th>2</th>\n",
       "      <td>176559</td>\n",
       "      <td>Bose SoundSport Headphones</td>\n",
       "      <td>1</td>\n",
       "      <td>99.99</td>\n",
       "      <td>2019-04-07 22:30:00</td>\n",
       "      <td>682 Chestnut St, Boston, MA 02215</td>\n",
       "      <td>2019</td>\n",
       "      <td>4</td>\n",
       "      <td>7</td>\n",
       "      <td>22</td>\n",
       "      <td>30</td>\n",
       "    </tr>\n",
       "    <tr>\n",
       "      <th>3</th>\n",
       "      <td>176560</td>\n",
       "      <td>Google Phone</td>\n",
       "      <td>1</td>\n",
       "      <td>600</td>\n",
       "      <td>2019-04-12 14:38:00</td>\n",
       "      <td>669 Spruce St, Los Angeles, CA 90001</td>\n",
       "      <td>2019</td>\n",
       "      <td>4</td>\n",
       "      <td>12</td>\n",
       "      <td>14</td>\n",
       "      <td>38</td>\n",
       "    </tr>\n",
       "    <tr>\n",
       "      <th>4</th>\n",
       "      <td>176560</td>\n",
       "      <td>Wired Headphones</td>\n",
       "      <td>1</td>\n",
       "      <td>11.99</td>\n",
       "      <td>2019-04-12 14:38:00</td>\n",
       "      <td>669 Spruce St, Los Angeles, CA 90001</td>\n",
       "      <td>2019</td>\n",
       "      <td>4</td>\n",
       "      <td>12</td>\n",
       "      <td>14</td>\n",
       "      <td>38</td>\n",
       "    </tr>\n",
       "    <tr>\n",
       "      <th>5</th>\n",
       "      <td>176561</td>\n",
       "      <td>Wired Headphones</td>\n",
       "      <td>1</td>\n",
       "      <td>11.99</td>\n",
       "      <td>2019-04-30 09:27:00</td>\n",
       "      <td>333 8th St, Los Angeles, CA 90001</td>\n",
       "      <td>2019</td>\n",
       "      <td>4</td>\n",
       "      <td>30</td>\n",
       "      <td>9</td>\n",
       "      <td>27</td>\n",
       "    </tr>\n",
       "    <tr>\n",
       "      <th>...</th>\n",
       "      <td>...</td>\n",
       "      <td>...</td>\n",
       "      <td>...</td>\n",
       "      <td>...</td>\n",
       "      <td>...</td>\n",
       "      <td>...</td>\n",
       "      <td>...</td>\n",
       "      <td>...</td>\n",
       "      <td>...</td>\n",
       "      <td>...</td>\n",
       "      <td>...</td>\n",
       "    </tr>\n",
       "    <tr>\n",
       "      <th>186845</th>\n",
       "      <td>259353</td>\n",
       "      <td>AAA Batteries (4-pack)</td>\n",
       "      <td>3</td>\n",
       "      <td>2.99</td>\n",
       "      <td>2019-09-17 20:56:00</td>\n",
       "      <td>840 Highland St, Los Angeles, CA 90001</td>\n",
       "      <td>2019</td>\n",
       "      <td>9</td>\n",
       "      <td>17</td>\n",
       "      <td>20</td>\n",
       "      <td>56</td>\n",
       "    </tr>\n",
       "    <tr>\n",
       "      <th>186846</th>\n",
       "      <td>259354</td>\n",
       "      <td>iPhone</td>\n",
       "      <td>1</td>\n",
       "      <td>700</td>\n",
       "      <td>2019-09-01 16:00:00</td>\n",
       "      <td>216 Dogwood St, San Francisco, CA 94016</td>\n",
       "      <td>2019</td>\n",
       "      <td>9</td>\n",
       "      <td>1</td>\n",
       "      <td>16</td>\n",
       "      <td>0</td>\n",
       "    </tr>\n",
       "    <tr>\n",
       "      <th>186847</th>\n",
       "      <td>259355</td>\n",
       "      <td>iPhone</td>\n",
       "      <td>1</td>\n",
       "      <td>700</td>\n",
       "      <td>2019-09-23 07:39:00</td>\n",
       "      <td>220 12th St, San Francisco, CA 94016</td>\n",
       "      <td>2019</td>\n",
       "      <td>9</td>\n",
       "      <td>23</td>\n",
       "      <td>7</td>\n",
       "      <td>39</td>\n",
       "    </tr>\n",
       "    <tr>\n",
       "      <th>186848</th>\n",
       "      <td>259356</td>\n",
       "      <td>34in Ultrawide Monitor</td>\n",
       "      <td>1</td>\n",
       "      <td>379.99</td>\n",
       "      <td>2019-09-19 17:30:00</td>\n",
       "      <td>511 Forest St, San Francisco, CA 94016</td>\n",
       "      <td>2019</td>\n",
       "      <td>9</td>\n",
       "      <td>19</td>\n",
       "      <td>17</td>\n",
       "      <td>30</td>\n",
       "    </tr>\n",
       "    <tr>\n",
       "      <th>186849</th>\n",
       "      <td>259357</td>\n",
       "      <td>USB-C Charging Cable</td>\n",
       "      <td>1</td>\n",
       "      <td>11.95</td>\n",
       "      <td>2019-09-30 00:18:00</td>\n",
       "      <td>250 Meadow St, San Francisco, CA 94016</td>\n",
       "      <td>2019</td>\n",
       "      <td>9</td>\n",
       "      <td>30</td>\n",
       "      <td>0</td>\n",
       "      <td>18</td>\n",
       "    </tr>\n",
       "  </tbody>\n",
       "</table>\n",
       "<p>185950 rows × 11 columns</p>\n",
       "</div>"
      ],
      "text/plain": [
       "       Order ID                     Product Quantity Ordered Price Each  \\\n",
       "0        176558        USB-C Charging Cable                2      11.95   \n",
       "2        176559  Bose SoundSport Headphones                1      99.99   \n",
       "3        176560                Google Phone                1        600   \n",
       "4        176560            Wired Headphones                1      11.99   \n",
       "5        176561            Wired Headphones                1      11.99   \n",
       "...         ...                         ...              ...        ...   \n",
       "186845   259353      AAA Batteries (4-pack)                3       2.99   \n",
       "186846   259354                      iPhone                1        700   \n",
       "186847   259355                      iPhone                1        700   \n",
       "186848   259356      34in Ultrawide Monitor                1     379.99   \n",
       "186849   259357        USB-C Charging Cable                1      11.95   \n",
       "\n",
       "                Order Date                         Purchase Address  year  \\\n",
       "0      2019-04-19 08:46:00             917 1st St, Dallas, TX 75001  2019   \n",
       "2      2019-04-07 22:30:00        682 Chestnut St, Boston, MA 02215  2019   \n",
       "3      2019-04-12 14:38:00     669 Spruce St, Los Angeles, CA 90001  2019   \n",
       "4      2019-04-12 14:38:00     669 Spruce St, Los Angeles, CA 90001  2019   \n",
       "5      2019-04-30 09:27:00        333 8th St, Los Angeles, CA 90001  2019   \n",
       "...                    ...                                      ...   ...   \n",
       "186845 2019-09-17 20:56:00   840 Highland St, Los Angeles, CA 90001  2019   \n",
       "186846 2019-09-01 16:00:00  216 Dogwood St, San Francisco, CA 94016  2019   \n",
       "186847 2019-09-23 07:39:00     220 12th St, San Francisco, CA 94016  2019   \n",
       "186848 2019-09-19 17:30:00   511 Forest St, San Francisco, CA 94016  2019   \n",
       "186849 2019-09-30 00:18:00   250 Meadow St, San Francisco, CA 94016  2019   \n",
       "\n",
       "        month  day  hour  minute  \n",
       "0           4   19     8      46  \n",
       "2           4    7    22      30  \n",
       "3           4   12    14      38  \n",
       "4           4   12    14      38  \n",
       "5           4   30     9      27  \n",
       "...       ...  ...   ...     ...  \n",
       "186845      9   17    20      56  \n",
       "186846      9    1    16       0  \n",
       "186847      9   23     7      39  \n",
       "186848      9   19    17      30  \n",
       "186849      9   30     0      18  \n",
       "\n",
       "[185950 rows x 11 columns]"
      ]
     },
     "execution_count": 14,
     "metadata": {},
     "output_type": "execute_result"
    }
   ],
   "source": [
    "all_data['year'] = all_data['Order Date'].dt.year\n",
    "all_data['month'] = all_data['Order Date'].dt.month\n",
    "all_data['day'] = all_data['Order Date'].dt.day\n",
    "all_data['hour'] = all_data['Order Date'].dt.hour\n",
    "all_data['minute'] = all_data['Order Date'].dt.minute\n",
    "#Actually, these are not necessary, but I just wanted to show that it can be done this way. Additionally, it is important to reinforce how they are called.\n",
    "all_data"
   ]
  },
  {
   "cell_type": "markdown",
   "id": "dd908e5a-b4f4-4b7a-a79f-8ca791e59c09",
   "metadata": {
    "tags": []
   },
   "source": [
    "### Question 1: What was the best month for sales? How much was earned that month?\n",
    "\n"
   ]
  },
  {
   "cell_type": "markdown",
   "id": "428959b9-36b4-476b-9a52-89f9b16cc186",
   "metadata": {},
   "source": [
    "#### Add sales column"
   ]
  },
  {
   "cell_type": "code",
   "execution_count": 15,
   "id": "591ed15b-ca4b-4397-b890-9acdd37b680a",
   "metadata": {},
   "outputs": [],
   "source": [
    "all_data['Quantity Ordered'] = pd.to_numeric(all_data['Quantity Ordered'])\n",
    "all_data['Price Each'] = pd.to_numeric(all_data['Price Each'])"
   ]
  },
  {
   "cell_type": "code",
   "execution_count": 16,
   "id": "75ae4287-8c66-4d03-a874-556539e47fdd",
   "metadata": {},
   "outputs": [
    {
     "data": {
      "text/html": [
       "<div>\n",
       "<style scoped>\n",
       "    .dataframe tbody tr th:only-of-type {\n",
       "        vertical-align: middle;\n",
       "    }\n",
       "\n",
       "    .dataframe tbody tr th {\n",
       "        vertical-align: top;\n",
       "    }\n",
       "\n",
       "    .dataframe thead th {\n",
       "        text-align: right;\n",
       "    }\n",
       "</style>\n",
       "<table border=\"1\" class=\"dataframe\">\n",
       "  <thead>\n",
       "    <tr style=\"text-align: right;\">\n",
       "      <th></th>\n",
       "      <th>Order ID</th>\n",
       "      <th>Product</th>\n",
       "      <th>Quantity Ordered</th>\n",
       "      <th>Price Each</th>\n",
       "      <th>Order Date</th>\n",
       "      <th>Purchase Address</th>\n",
       "      <th>year</th>\n",
       "      <th>month</th>\n",
       "      <th>day</th>\n",
       "      <th>hour</th>\n",
       "      <th>minute</th>\n",
       "      <th>Sales</th>\n",
       "    </tr>\n",
       "  </thead>\n",
       "  <tbody>\n",
       "    <tr>\n",
       "      <th>0</th>\n",
       "      <td>176558</td>\n",
       "      <td>USB-C Charging Cable</td>\n",
       "      <td>2</td>\n",
       "      <td>11.95</td>\n",
       "      <td>2019-04-19 08:46:00</td>\n",
       "      <td>917 1st St, Dallas, TX 75001</td>\n",
       "      <td>2019</td>\n",
       "      <td>4</td>\n",
       "      <td>19</td>\n",
       "      <td>8</td>\n",
       "      <td>46</td>\n",
       "      <td>23.90</td>\n",
       "    </tr>\n",
       "    <tr>\n",
       "      <th>2</th>\n",
       "      <td>176559</td>\n",
       "      <td>Bose SoundSport Headphones</td>\n",
       "      <td>1</td>\n",
       "      <td>99.99</td>\n",
       "      <td>2019-04-07 22:30:00</td>\n",
       "      <td>682 Chestnut St, Boston, MA 02215</td>\n",
       "      <td>2019</td>\n",
       "      <td>4</td>\n",
       "      <td>7</td>\n",
       "      <td>22</td>\n",
       "      <td>30</td>\n",
       "      <td>99.99</td>\n",
       "    </tr>\n",
       "    <tr>\n",
       "      <th>3</th>\n",
       "      <td>176560</td>\n",
       "      <td>Google Phone</td>\n",
       "      <td>1</td>\n",
       "      <td>600.00</td>\n",
       "      <td>2019-04-12 14:38:00</td>\n",
       "      <td>669 Spruce St, Los Angeles, CA 90001</td>\n",
       "      <td>2019</td>\n",
       "      <td>4</td>\n",
       "      <td>12</td>\n",
       "      <td>14</td>\n",
       "      <td>38</td>\n",
       "      <td>600.00</td>\n",
       "    </tr>\n",
       "    <tr>\n",
       "      <th>4</th>\n",
       "      <td>176560</td>\n",
       "      <td>Wired Headphones</td>\n",
       "      <td>1</td>\n",
       "      <td>11.99</td>\n",
       "      <td>2019-04-12 14:38:00</td>\n",
       "      <td>669 Spruce St, Los Angeles, CA 90001</td>\n",
       "      <td>2019</td>\n",
       "      <td>4</td>\n",
       "      <td>12</td>\n",
       "      <td>14</td>\n",
       "      <td>38</td>\n",
       "      <td>11.99</td>\n",
       "    </tr>\n",
       "    <tr>\n",
       "      <th>5</th>\n",
       "      <td>176561</td>\n",
       "      <td>Wired Headphones</td>\n",
       "      <td>1</td>\n",
       "      <td>11.99</td>\n",
       "      <td>2019-04-30 09:27:00</td>\n",
       "      <td>333 8th St, Los Angeles, CA 90001</td>\n",
       "      <td>2019</td>\n",
       "      <td>4</td>\n",
       "      <td>30</td>\n",
       "      <td>9</td>\n",
       "      <td>27</td>\n",
       "      <td>11.99</td>\n",
       "    </tr>\n",
       "  </tbody>\n",
       "</table>\n",
       "</div>"
      ],
      "text/plain": [
       "  Order ID                     Product  Quantity Ordered  Price Each  \\\n",
       "0   176558        USB-C Charging Cable                 2       11.95   \n",
       "2   176559  Bose SoundSport Headphones                 1       99.99   \n",
       "3   176560                Google Phone                 1      600.00   \n",
       "4   176560            Wired Headphones                 1       11.99   \n",
       "5   176561            Wired Headphones                 1       11.99   \n",
       "\n",
       "           Order Date                      Purchase Address  year  month  day  \\\n",
       "0 2019-04-19 08:46:00          917 1st St, Dallas, TX 75001  2019      4   19   \n",
       "2 2019-04-07 22:30:00     682 Chestnut St, Boston, MA 02215  2019      4    7   \n",
       "3 2019-04-12 14:38:00  669 Spruce St, Los Angeles, CA 90001  2019      4   12   \n",
       "4 2019-04-12 14:38:00  669 Spruce St, Los Angeles, CA 90001  2019      4   12   \n",
       "5 2019-04-30 09:27:00     333 8th St, Los Angeles, CA 90001  2019      4   30   \n",
       "\n",
       "   hour  minute   Sales  \n",
       "0     8      46   23.90  \n",
       "2    22      30   99.99  \n",
       "3    14      38  600.00  \n",
       "4    14      38   11.99  \n",
       "5     9      27   11.99  "
      ]
     },
     "execution_count": 16,
     "metadata": {},
     "output_type": "execute_result"
    }
   ],
   "source": [
    "all_data['Sales'] = all_data['Quantity Ordered'] * all_data['Price Each']\n",
    "all_data.head()"
   ]
  },
  {
   "cell_type": "code",
   "execution_count": 17,
   "id": "60d29028-90ab-4493-b8ed-96724fb396b9",
   "metadata": {},
   "outputs": [
    {
     "name": "stderr",
     "output_type": "stream",
     "text": [
      "C:\\Users\\GFB\\AppData\\Local\\Temp\\ipykernel_6796\\3150491970.py:1: FutureWarning: The default value of numeric_only in DataFrameGroupBy.sum is deprecated. In a future version, numeric_only will default to False. Either specify numeric_only or select only columns which should be valid for the function.\n",
      "  highest_sale_months = all_data.groupby('month').sum()['Sales'].sort_values(ascending = False)\n"
     ]
    },
    {
     "data": {
      "text/plain": [
       "month\n",
       "12    4613443.34\n",
       "10    3736726.88\n",
       "4     3390670.24\n",
       "11    3199603.20\n",
       "5     3152606.75\n",
       "3     2807100.38\n",
       "7     2647775.76\n",
       "6     2577802.26\n",
       "8     2244467.88\n",
       "2     2202022.42\n",
       "9     2097560.13\n",
       "1     1822256.73\n",
       "Name: Sales, dtype: float64"
      ]
     },
     "execution_count": 17,
     "metadata": {},
     "output_type": "execute_result"
    }
   ],
   "source": [
    "highest_sale_months = all_data.groupby('month').sum()['Sales'].sort_values(ascending = False)\n",
    "highest_sale_months"
   ]
  },
  {
   "cell_type": "code",
   "execution_count": 18,
   "id": "32e0a7cb-cec6-4a45-9a35-172a6cd11406",
   "metadata": {},
   "outputs": [
    {
     "name": "stdout",
     "output_type": "stream",
     "text": [
      "The highest sales were 4613443.34$ in the 12th month.\n"
     ]
    }
   ],
   "source": [
    "print('The highest sales were {1}$ in the {0}th month.'.format(highest_sale_months.index[0] , highest_sale_months.iloc[0])) # Just for training"
   ]
  },
  {
   "cell_type": "markdown",
   "id": "f528bb66-96a5-445b-9a56-0d78ee11a601",
   "metadata": {
    "tags": []
   },
   "source": [
    "#### Visualize the question"
   ]
  },
  {
   "cell_type": "code",
   "execution_count": 19,
   "id": "634a4bb8-ae8f-4c55-a3c3-38f7056856f1",
   "metadata": {},
   "outputs": [
    {
     "name": "stderr",
     "output_type": "stream",
     "text": [
      "C:\\Users\\GFB\\AppData\\Local\\Temp\\ipykernel_6796\\2903071078.py:3: FutureWarning: The default value of numeric_only in DataFrameGroupBy.sum is deprecated. In a future version, numeric_only will default to False. Either specify numeric_only or select only columns which should be valid for the function.\n",
      "  result = all_data.groupby('month').sum()\n"
     ]
    },
    {
     "data": {
      "image/png": "[encoded data removed]",
      "text/plain": [
       "<Figure size 640x480 with 1 Axes>"
      ]
     },
     "metadata": {},
     "output_type": "display_data"
    }
   ],
   "source": [
    "import matplotlib.pyplot as plt\n",
    "\n",
    "result = all_data.groupby('month').sum()\n",
    "\n",
    "months = [i for i in range(1,13)]\n",
    "\n",
    "plt.bar(months, result['Sales'])\n",
    "plt.xticks(months)\n",
    "plt.ylabel('Sales in USD($)')\n",
    "plt.xlabel('Months')\n",
    "\n",
    "plt.show()"
   ]
  },
  {
   "cell_type": "markdown",
   "id": "a55e4634-9465-4ca7-aa77-cc57466266e7",
   "metadata": {
    "tags": []
   },
   "source": [
    "### Question 2: \n"
   ]
  },
  {
   "cell_type": "markdown",
   "id": "51b8bd86-9b1c-4411-870c-ae7c7136c093",
   "metadata": {
    "tags": []
   },
   "source": [
    "#### Which city has the most sales ?\n"
   ]
  },
  {
   "cell_type": "code",
   "execution_count": 20,
   "id": "6e2d3bd9-8ece-4ce7-9e06-009436ff9e56",
   "metadata": {},
   "outputs": [],
   "source": [
    "all_data['City'] = None"
   ]
  },
  {
   "cell_type": "code",
   "execution_count": 21,
   "id": "b74d8efd-4afe-48b0-ad29-ccb6ac06dd1e",
   "metadata": {},
   "outputs": [],
   "source": [
    "def city_parser(address):\n",
    "    city = address.split(sep = ',')[1].strip()\n",
    "    return city"
   ]
  },
  {
   "cell_type": "code",
   "execution_count": 22,
   "id": "b44e4448-fb3e-4483-bd87-7a57a5b7ee06",
   "metadata": {},
   "outputs": [
    {
     "data": {
      "text/html": [
       "<div>\n",
       "<style scoped>\n",
       "    .dataframe tbody tr th:only-of-type {\n",
       "        vertical-align: middle;\n",
       "    }\n",
       "\n",
       "    .dataframe tbody tr th {\n",
       "        vertical-align: top;\n",
       "    }\n",
       "\n",
       "    .dataframe thead th {\n",
       "        text-align: right;\n",
       "    }\n",
       "</style>\n",
       "<table border=\"1\" class=\"dataframe\">\n",
       "  <thead>\n",
       "    <tr style=\"text-align: right;\">\n",
       "      <th></th>\n",
       "      <th>Order ID</th>\n",
       "      <th>Product</th>\n",
       "      <th>Quantity Ordered</th>\n",
       "      <th>Price Each</th>\n",
       "      <th>Order Date</th>\n",
       "      <th>Purchase Address</th>\n",
       "      <th>year</th>\n",
       "      <th>month</th>\n",
       "      <th>day</th>\n",
       "      <th>hour</th>\n",
       "      <th>minute</th>\n",
       "      <th>Sales</th>\n",
       "      <th>City</th>\n",
       "    </tr>\n",
       "  </thead>\n",
       "  <tbody>\n",
       "    <tr>\n",
       "      <th>0</th>\n",
       "      <td>176558</td>\n",
       "      <td>USB-C Charging Cable</td>\n",
       "      <td>2</td>\n",
       "      <td>11.95</td>\n",
       "      <td>2019-04-19 08:46:00</td>\n",
       "      <td>917 1st St, Dallas, TX 75001</td>\n",
       "      <td>2019</td>\n",
       "      <td>4</td>\n",
       "      <td>19</td>\n",
       "      <td>8</td>\n",
       "      <td>46</td>\n",
       "      <td>23.90</td>\n",
       "      <td>Dallas</td>\n",
       "    </tr>\n",
       "    <tr>\n",
       "      <th>2</th>\n",
       "      <td>176559</td>\n",
       "      <td>Bose SoundSport Headphones</td>\n",
       "      <td>1</td>\n",
       "      <td>99.99</td>\n",
       "      <td>2019-04-07 22:30:00</td>\n",
       "      <td>682 Chestnut St, Boston, MA 02215</td>\n",
       "      <td>2019</td>\n",
       "      <td>4</td>\n",
       "      <td>7</td>\n",
       "      <td>22</td>\n",
       "      <td>30</td>\n",
       "      <td>99.99</td>\n",
       "      <td>Boston</td>\n",
       "    </tr>\n",
       "    <tr>\n",
       "      <th>3</th>\n",
       "      <td>176560</td>\n",
       "      <td>Google Phone</td>\n",
       "      <td>1</td>\n",
       "      <td>600.00</td>\n",
       "      <td>2019-04-12 14:38:00</td>\n",
       "      <td>669 Spruce St, Los Angeles, CA 90001</td>\n",
       "      <td>2019</td>\n",
       "      <td>4</td>\n",
       "      <td>12</td>\n",
       "      <td>14</td>\n",
       "      <td>38</td>\n",
       "      <td>600.00</td>\n",
       "      <td>Los Angeles</td>\n",
       "    </tr>\n",
       "    <tr>\n",
       "      <th>4</th>\n",
       "      <td>176560</td>\n",
       "      <td>Wired Headphones</td>\n",
       "      <td>1</td>\n",
       "      <td>11.99</td>\n",
       "      <td>2019-04-12 14:38:00</td>\n",
       "      <td>669 Spruce St, Los Angeles, CA 90001</td>\n",
       "      <td>2019</td>\n",
       "      <td>4</td>\n",
       "      <td>12</td>\n",
       "      <td>14</td>\n",
       "      <td>38</td>\n",
       "      <td>11.99</td>\n",
       "      <td>Los Angeles</td>\n",
       "    </tr>\n",
       "    <tr>\n",
       "      <th>5</th>\n",
       "      <td>176561</td>\n",
       "      <td>Wired Headphones</td>\n",
       "      <td>1</td>\n",
       "      <td>11.99</td>\n",
       "      <td>2019-04-30 09:27:00</td>\n",
       "      <td>333 8th St, Los Angeles, CA 90001</td>\n",
       "      <td>2019</td>\n",
       "      <td>4</td>\n",
       "      <td>30</td>\n",
       "      <td>9</td>\n",
       "      <td>27</td>\n",
       "      <td>11.99</td>\n",
       "      <td>Los Angeles</td>\n",
       "    </tr>\n",
       "  </tbody>\n",
       "</table>\n",
       "</div>"
      ],
      "text/plain": [
       "  Order ID                     Product  Quantity Ordered  Price Each  \\\n",
       "0   176558        USB-C Charging Cable                 2       11.95   \n",
       "2   176559  Bose SoundSport Headphones                 1       99.99   \n",
       "3   176560                Google Phone                 1      600.00   \n",
       "4   176560            Wired Headphones                 1       11.99   \n",
       "5   176561            Wired Headphones                 1       11.99   \n",
       "\n",
       "           Order Date                      Purchase Address  year  month  day  \\\n",
       "0 2019-04-19 08:46:00          917 1st St, Dallas, TX 75001  2019      4   19   \n",
       "2 2019-04-07 22:30:00     682 Chestnut St, Boston, MA 02215  2019      4    7   \n",
       "3 2019-04-12 14:38:00  669 Spruce St, Los Angeles, CA 90001  2019      4   12   \n",
       "4 2019-04-12 14:38:00  669 Spruce St, Los Angeles, CA 90001  2019      4   12   \n",
       "5 2019-04-30 09:27:00     333 8th St, Los Angeles, CA 90001  2019      4   30   \n",
       "\n",
       "   hour  minute   Sales         City  \n",
       "0     8      46   23.90       Dallas  \n",
       "2    22      30   99.99       Boston  \n",
       "3    14      38  600.00  Los Angeles  \n",
       "4    14      38   11.99  Los Angeles  \n",
       "5     9      27   11.99  Los Angeles  "
      ]
     },
     "execution_count": 22,
     "metadata": {},
     "output_type": "execute_result"
    }
   ],
   "source": [
    "all_data['City'] = all_data['Purchase Address'].apply(city_parser)\n",
    "all_data.head(5)"
   ]
  },
  {
   "cell_type": "code",
   "execution_count": 23,
   "id": "dab86923-801c-4ce7-8558-9a837834a363",
   "metadata": {},
   "outputs": [
    {
     "data": {
      "text/plain": [
       "(['Dallas',\n",
       "  'Boston',\n",
       "  'Los Angeles',\n",
       "  'San Francisco',\n",
       "  'Seattle',\n",
       "  'Atlanta',\n",
       "  'New York City',\n",
       "  'Portland',\n",
       "  'Austin'],\n",
       " 9)"
      ]
     },
     "execution_count": 23,
     "metadata": {},
     "output_type": "execute_result"
    }
   ],
   "source": [
    "list(all_data['City'].unique()), len(list(all_data['City'].unique())) #The cities where sales were made and the number of cities"
   ]
  },
  {
   "cell_type": "code",
   "execution_count": 24,
   "id": "2af1661e-ee4d-4f0f-9e21-a125b35b7733",
   "metadata": {},
   "outputs": [
    {
     "data": {
      "text/plain": [
       "City\n",
       "San Francisco    8262203.91\n",
       "Los Angeles      5452570.80\n",
       "New York City    4664317.43\n",
       "Boston           3661642.01\n",
       "Atlanta          2795498.58\n",
       "Dallas           2767975.40\n",
       "Seattle          2747755.48\n",
       "Portland         2320490.61\n",
       "Austin           1819581.75\n",
       "Name: Sales, dtype: float64"
      ]
     },
     "execution_count": 24,
     "metadata": {},
     "output_type": "execute_result"
    }
   ],
   "source": [
    "cities_sales = all_data.groupby('City').Sales.sum().sort_values(ascending = False)\n",
    "cities_sales"
   ]
  },
  {
   "cell_type": "code",
   "execution_count": 25,
   "id": "aa87e986-68ab-4297-a5c4-fe50bd35e6d3",
   "metadata": {},
   "outputs": [
    {
     "name": "stdout",
     "output_type": "stream",
     "text": [
      "A sales of 8262203.91$ was made in the city of San Francisco.\n"
     ]
    }
   ],
   "source": [
    "print('A sales of {0}$ was made in the city of {1}.'.format(cities_sales.iloc[0], cities_sales.index[0]))"
   ]
  },
  {
   "cell_type": "code",
   "execution_count": 26,
   "id": "26a65456-3757-4d45-b591-62aa01e7f981",
   "metadata": {},
   "outputs": [],
   "source": [
    "cities = all_data.groupby('City').Sales.sum()"
   ]
  },
  {
   "cell_type": "code",
   "execution_count": 27,
   "id": "cd6def02-d90d-43bc-b442-c51cff5408d8",
   "metadata": {},
   "outputs": [
    {
     "name": "stderr",
     "output_type": "stream",
     "text": [
      "C:\\Users\\GFB\\AppData\\Local\\Temp\\ipykernel_6796\\2933421380.py:1: FutureWarning: The default value of numeric_only in DataFrameGroupBy.sum is deprecated. In a future version, numeric_only will default to False. Either specify numeric_only or select only columns which should be valid for the function.\n",
      "  result = all_data.groupby('month').sum()\n"
     ]
    },
    {
     "data": {
      "image/png": "[encoded data removed]",
      "text/plain": [
       "<Figure size 640x480 with 1 Axes>"
      ]
     },
     "metadata": {},
     "output_type": "display_data"
    }
   ],
   "source": [
    "result = all_data.groupby('month').sum()\n",
    "\n",
    "plt.barh(list(cities.index), cities)\n",
    "\n",
    "plt.xlabel('Sales - US million$')\n",
    "plt.ylabel('Cities')\n",
    "\n",
    "plt.show() "
   ]
  },
  {
   "cell_type": "markdown",
   "id": "67e31d3c-572c-4dc0-bad8-ce4426a276b3",
   "metadata": {
    "tags": []
   },
   "source": [
    "### Question 3: What time should we display advertisements to maximize likelihood of customer's buying product?"
   ]
  },
  {
   "cell_type": "code",
   "execution_count": 28,
   "id": "080a480e-91aa-4de8-b4bd-e20c4374af3e",
   "metadata": {},
   "outputs": [
    {
     "data": {
      "text/plain": [
       "19    12905\n",
       "12    12587\n",
       "11    12411\n",
       "18    12280\n",
       "20    12228\n",
       "Name: hour, dtype: int64"
      ]
     },
     "execution_count": 28,
     "metadata": {},
     "output_type": "execute_result"
    }
   ],
   "source": [
    "hours = all_data.hour.value_counts()\n",
    "hours.head()"
   ]
  },
  {
   "cell_type": "code",
   "execution_count": 29,
   "id": "57b49b61-b9d7-4b71-b59d-84ffd04bbe5a",
   "metadata": {},
   "outputs": [
    {
     "name": "stdout",
     "output_type": "stream",
     "text": [
      "Publishing at 19 will be the right decision.\n"
     ]
    }
   ],
   "source": [
    "print('Publishing at {} will be the right decision.'.format(hours.index[0]))"
   ]
  },
  {
   "cell_type": "code",
   "execution_count": 30,
   "id": "fd6c4d2e-6bff-4c9d-ad2c-86969fdd9ad1",
   "metadata": {},
   "outputs": [
    {
     "data": {
      "image/png": "[encoded data removed]",
      "text/plain": [
       "<Figure size 640x480 with 1 Axes>"
      ]
     },
     "metadata": {},
     "output_type": "display_data"
    }
   ],
   "source": [
    "plt.bar(hours.index, hours)\n",
    "\n",
    "plt.xticks(hours.index)\n",
    "plt.ylabel('Sales Count')\n",
    "plt.xlabel('Hours')\n",
    "\n",
    "plt.show()"
   ]
  },
  {
   "cell_type": "markdown",
   "id": "8f99c2da-dc8b-49eb-bfa1-c4536fe83cec",
   "metadata": {
    "tags": []
   },
   "source": [
    "### Question 4: What products are most often sell together?"
   ]
  },
  {
   "cell_type": "code",
   "execution_count": 31,
   "id": "d2656706-56ec-41e0-b6de-1cf6d8cd6834",
   "metadata": {},
   "outputs": [
    {
     "data": {
      "text/plain": [
       "0               USB-C Charging Cable\n",
       "2         Bose SoundSport Headphones\n",
       "3                       Google Phone\n",
       "4                   Wired Headphones\n",
       "5                   Wired Headphones\n",
       "                     ...            \n",
       "186845        AAA Batteries (4-pack)\n",
       "186846                        iPhone\n",
       "186847                        iPhone\n",
       "186848        34in Ultrawide Monitor\n",
       "186849          USB-C Charging Cable\n",
       "Name: Product, Length: 185950, dtype: object"
      ]
     },
     "execution_count": 31,
     "metadata": {},
     "output_type": "execute_result"
    }
   ],
   "source": [
    "df = all_data.groupby('Order ID')['Product']\n",
    "df.head(5)"
   ]
  },
  {
   "cell_type": "code",
   "execution_count": 32,
   "id": "c14b81f3-e845-484f-b817-4e9738017326",
   "metadata": {},
   "outputs": [
    {
     "name": "stderr",
     "output_type": "stream",
     "text": [
      "C:\\Users\\GFB\\AppData\\Local\\Temp\\ipykernel_6796\\2833833587.py:2: SettingWithCopyWarning: \n",
      "A value is trying to be set on a copy of a slice from a DataFrame.\n",
      "Try using .loc[row_indexer,col_indexer] = value instead\n",
      "\n",
      "See the caveats in the documentation: https://pandas.pydata.org/pandas-docs/stable/user_guide/indexing.html#returning-a-view-versus-a-copy\n",
      "  df['Grouped'] = df.groupby('Order ID')['Product'].transform(lambda x: ','.join(x))\n"
     ]
    },
    {
     "data": {
      "text/html": [
       "<div>\n",
       "<style scoped>\n",
       "    .dataframe tbody tr th:only-of-type {\n",
       "        vertical-align: middle;\n",
       "    }\n",
       "\n",
       "    .dataframe tbody tr th {\n",
       "        vertical-align: top;\n",
       "    }\n",
       "\n",
       "    .dataframe thead th {\n",
       "        text-align: right;\n",
       "    }\n",
       "</style>\n",
       "<table border=\"1\" class=\"dataframe\">\n",
       "  <thead>\n",
       "    <tr style=\"text-align: right;\">\n",
       "      <th></th>\n",
       "      <th>Order ID</th>\n",
       "      <th>Grouped</th>\n",
       "    </tr>\n",
       "  </thead>\n",
       "  <tbody>\n",
       "    <tr>\n",
       "      <th>3</th>\n",
       "      <td>176560</td>\n",
       "      <td>Google Phone,Wired Headphones</td>\n",
       "    </tr>\n",
       "    <tr>\n",
       "      <th>18</th>\n",
       "      <td>176574</td>\n",
       "      <td>Google Phone,USB-C Charging Cable</td>\n",
       "    </tr>\n",
       "    <tr>\n",
       "      <th>30</th>\n",
       "      <td>176585</td>\n",
       "      <td>Bose SoundSport Headphones,Bose SoundSport Hea...</td>\n",
       "    </tr>\n",
       "    <tr>\n",
       "      <th>32</th>\n",
       "      <td>176586</td>\n",
       "      <td>AAA Batteries (4-pack),Google Phone</td>\n",
       "    </tr>\n",
       "    <tr>\n",
       "      <th>119</th>\n",
       "      <td>176672</td>\n",
       "      <td>Lightning Charging Cable,USB-C Charging Cable</td>\n",
       "    </tr>\n",
       "  </tbody>\n",
       "</table>\n",
       "</div>"
      ],
      "text/plain": [
       "    Order ID                                            Grouped\n",
       "3     176560                      Google Phone,Wired Headphones\n",
       "18    176574                  Google Phone,USB-C Charging Cable\n",
       "30    176585  Bose SoundSport Headphones,Bose SoundSport Hea...\n",
       "32    176586                AAA Batteries (4-pack),Google Phone\n",
       "119   176672      Lightning Charging Cable,USB-C Charging Cable"
      ]
     },
     "execution_count": 32,
     "metadata": {},
     "output_type": "execute_result"
    }
   ],
   "source": [
    "df = all_data[all_data['Order ID'].duplicated(keep = False)]\n",
    "df['Grouped'] = df.groupby('Order ID')['Product'].transform(lambda x: ','.join(x))\n",
    "df = df[['Order ID', 'Grouped']].drop_duplicates()\n",
    "df.head()"
   ]
  },
  {
   "cell_type": "code",
   "execution_count": 33,
   "id": "438f1cdf-24e1-40b5-8514-031a956cfb6c",
   "metadata": {},
   "outputs": [],
   "source": [
    "from itertools import combinations\n",
    "from collections import Counter"
   ]
  },
  {
   "cell_type": "code",
   "execution_count": 34,
   "id": "c7e667f5-9bce-40ef-938c-1f5bb44a79aa",
   "metadata": {},
   "outputs": [],
   "source": [
    "count = Counter()\n",
    "\n",
    "for row in df['Grouped']:\n",
    "    row_list = row.split(',')\n",
    "    count.update(Counter(combinations(row_list, 2)))\n",
    "    \n",
    "    \n",
    "count_data = {'Item Name': count.keys(), 'Count': count.values()}\n",
    "\n",
    "\n",
    "dataframe_count = pd.DataFrame(data = count_data)\n",
    "dataframe_count = dataframe_count.sort_values(ascending = False, by = 'Count')"
   ]
  },
  {
   "cell_type": "code",
   "execution_count": 35,
   "id": "87feaac0-0bb4-4618-8e6f-f03cf12716f2",
   "metadata": {},
   "outputs": [],
   "source": [
    "dataframe_count = dataframe_count.reset_index(drop=True)\n",
    "dataframe_count['Item Name'] = dataframe_count['Item Name'].astype(str).agg(lambda x:x.str.strip('()'))"
   ]
  },
  {
   "cell_type": "code",
   "execution_count": 36,
   "id": "8966cfb7-ad65-44b7-99ae-9a07e3f6630e",
   "metadata": {},
   "outputs": [
    {
     "data": {
      "text/html": [
       "<div>\n",
       "<style scoped>\n",
       "    .dataframe tbody tr th:only-of-type {\n",
       "        vertical-align: middle;\n",
       "    }\n",
       "\n",
       "    .dataframe tbody tr th {\n",
       "        vertical-align: top;\n",
       "    }\n",
       "\n",
       "    .dataframe thead th {\n",
       "        text-align: right;\n",
       "    }\n",
       "</style>\n",
       "<table border=\"1\" class=\"dataframe\">\n",
       "  <thead>\n",
       "    <tr style=\"text-align: right;\">\n",
       "      <th></th>\n",
       "      <th>Item Name</th>\n",
       "      <th>Count</th>\n",
       "    </tr>\n",
       "  </thead>\n",
       "  <tbody>\n",
       "    <tr>\n",
       "      <th>0</th>\n",
       "      <td>'iPhone', 'Lightning Charging Cable'</td>\n",
       "      <td>1005</td>\n",
       "    </tr>\n",
       "    <tr>\n",
       "      <th>1</th>\n",
       "      <td>'Google Phone', 'USB-C Charging Cable'</td>\n",
       "      <td>987</td>\n",
       "    </tr>\n",
       "    <tr>\n",
       "      <th>2</th>\n",
       "      <td>'iPhone', 'Wired Headphones'</td>\n",
       "      <td>447</td>\n",
       "    </tr>\n",
       "    <tr>\n",
       "      <th>3</th>\n",
       "      <td>'Google Phone', 'Wired Headphones'</td>\n",
       "      <td>414</td>\n",
       "    </tr>\n",
       "    <tr>\n",
       "      <th>4</th>\n",
       "      <td>'Vareebadd Phone', 'USB-C Charging Cable'</td>\n",
       "      <td>361</td>\n",
       "    </tr>\n",
       "    <tr>\n",
       "      <th>...</th>\n",
       "      <td>...</td>\n",
       "      <td>...</td>\n",
       "    </tr>\n",
       "    <tr>\n",
       "      <th>308</th>\n",
       "      <td>'LG Washing Machine', 'iPhone'</td>\n",
       "      <td>1</td>\n",
       "    </tr>\n",
       "    <tr>\n",
       "      <th>309</th>\n",
       "      <td>'LG Dryer', 'Wired Headphones'</td>\n",
       "      <td>1</td>\n",
       "    </tr>\n",
       "    <tr>\n",
       "      <th>310</th>\n",
       "      <td>'27in FHD Monitor', 'Vareebadd Phone'</td>\n",
       "      <td>1</td>\n",
       "    </tr>\n",
       "    <tr>\n",
       "      <th>311</th>\n",
       "      <td>'LG Washing Machine', '27in 4K Gaming Monitor'</td>\n",
       "      <td>1</td>\n",
       "    </tr>\n",
       "    <tr>\n",
       "      <th>312</th>\n",
       "      <td>'LG Washing Machine', 'AA Batteries (4-pack)'</td>\n",
       "      <td>1</td>\n",
       "    </tr>\n",
       "  </tbody>\n",
       "</table>\n",
       "<p>313 rows × 2 columns</p>\n",
       "</div>"
      ],
      "text/plain": [
       "                                          Item Name  Count\n",
       "0              'iPhone', 'Lightning Charging Cable'   1005\n",
       "1            'Google Phone', 'USB-C Charging Cable'    987\n",
       "2                      'iPhone', 'Wired Headphones'    447\n",
       "3                'Google Phone', 'Wired Headphones'    414\n",
       "4         'Vareebadd Phone', 'USB-C Charging Cable'    361\n",
       "..                                              ...    ...\n",
       "308                  'LG Washing Machine', 'iPhone'      1\n",
       "309                  'LG Dryer', 'Wired Headphones'      1\n",
       "310           '27in FHD Monitor', 'Vareebadd Phone'      1\n",
       "311  'LG Washing Machine', '27in 4K Gaming Monitor'      1\n",
       "312   'LG Washing Machine', 'AA Batteries (4-pack)'      1\n",
       "\n",
       "[313 rows x 2 columns]"
      ]
     },
     "execution_count": 36,
     "metadata": {},
     "output_type": "execute_result"
    }
   ],
   "source": [
    "dataframe_count"
   ]
  },
  {
   "cell_type": "markdown",
   "id": "bc655897-f4b7-44e5-a36e-cea9745bb07b",
   "metadata": {},
   "source": [
    "### Question 5: Which product sold the most?"
   ]
  },
  {
   "cell_type": "code",
   "execution_count": 37,
   "id": "1b67276b-b8c8-4df0-a43f-4564d81ae91a",
   "metadata": {},
   "outputs": [
    {
     "data": {
      "text/plain": [
       "Product\n",
       "AAA Batteries (4-pack)        31017\n",
       "AA Batteries (4-pack)         27635\n",
       "USB-C Charging Cable          23975\n",
       "Lightning Charging Cable      23217\n",
       "Wired Headphones              20557\n",
       "Apple Airpods Headphones      15661\n",
       "Bose SoundSport Headphones    13457\n",
       "27in FHD Monitor               7550\n",
       "iPhone                         6849\n",
       "27in 4K Gaming Monitor         6244\n",
       "34in Ultrawide Monitor         6199\n",
       "Google Phone                   5532\n",
       "Flatscreen TV                  4819\n",
       "Macbook Pro Laptop             4728\n",
       "ThinkPad Laptop                4130\n",
       "20in Monitor                   4129\n",
       "Vareebadd Phone                2068\n",
       "LG Washing Machine              666\n",
       "LG Dryer                        646\n",
       "Name: Quantity Ordered, dtype: int64"
      ]
     },
     "execution_count": 37,
     "metadata": {},
     "output_type": "execute_result"
    }
   ],
   "source": [
    "all_data.groupby('Product')['Quantity Ordered'].sum().sort_values(ascending=False)"
   ]
  },
  {
   "cell_type": "code",
   "execution_count": 38,
   "id": "4950fcc3-2691-4f25-b4a0-fef7ba4fd350",
   "metadata": {},
   "outputs": [
    {
     "name": "stderr",
     "output_type": "stream",
     "text": [
      "C:\\Users\\GFB\\AppData\\Local\\Temp\\ipykernel_6796\\1447116882.py:2: FutureWarning: The default value of numeric_only in DataFrameGroupBy.sum is deprecated. In a future version, numeric_only will default to False. Either specify numeric_only or select only columns which should be valid for the function.\n",
      "  quantity_ordered = products_group.sum()['Quantity Ordered']\n"
     ]
    },
    {
     "data": {
      "image/png": "[encoded data removed]",
      "text/plain": [
       "<Figure size 640x480 with 1 Axes>"
      ]
     },
     "metadata": {},
     "output_type": "display_data"
    }
   ],
   "source": [
    "products_group = all_data.groupby('Product')\n",
    "quantity_ordered = products_group.sum()['Quantity Ordered']\n",
    "\n",
    "products = [product for product, ds in products_group]\n",
    "\n",
    "\n",
    "plt.bar(products, quantity_ordered)\n",
    "plt.xticks(products, rotation= 'vertical', size = 8)\n",
    "plt.xlabel('Products')\n",
    "plt.ylabel('Quantity Ordered')\n",
    "\n",
    "plt.show()"
   ]
  },
  {
   "cell_type": "markdown",
   "id": "60676ae1-12cc-4755-bed0-1b23e4d19f2a",
   "metadata": {},
   "source": [
    "#### Since we have data from a trading site, our simplest goal is to increase sales. In this study, we tried to answer a few questions in accordance with the data we have. But in my opinion, the most important question would be to find the point where site traffic is highest but sales are lowest. If we had the site flow data, it could be done in a way close to the applications made."
   ]
  }
 ],
 "metadata": {
  "kernelspec": {
   "display_name": "Python 3 (ipykernel)",
   "language": "python",
   "name": "python3"
  },
  "language_info": {
   "codemirror_mode": {
    "name": "ipython",
    "version": 3
   },
   "file_extension": ".py",
   "mimetype": "text/x-python",
   "name": "python",
   "nbconvert_exporter": "python",
   "pygments_lexer": "ipython3",
   "version": "3.10.9"
  }
 },
 "nbformat": 4,
 "nbformat_minor": 5
}
